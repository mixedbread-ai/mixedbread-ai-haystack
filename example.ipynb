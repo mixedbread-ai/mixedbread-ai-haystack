{
 "cells": [
  {
   "cell_type": "code",
   "execution_count": 1,
   "metadata": {
    "ExecuteTime": {
     "end_time": "2024-04-02T11:20:18.463982Z",
     "start_time": "2024-04-02T11:20:17.228002Z"
    }
   },
   "outputs": [
    {
     "name": "stdout",
     "output_type": "stream",
     "text": [
      "/Users/juliuslipp/.zshenv:.:1: no such file or directory: /Users/juliuslipp/.cargo/env\n",
      "Requirement already satisfied: sentence_transformers in /Users/juliuslipp/Library/Caches/pypoetry/virtualenvs/mxbai--uGaocbU-py3.10/lib/python3.10/site-packages (2.6.1)\n",
      "Collecting sentence_transformers\n",
      "  Downloading sentence_transformers-3.0.1-py3-none-any.whl.metadata (10 kB)\n",
      "Requirement already satisfied: mixedbread-ai in /Users/juliuslipp/Library/Caches/pypoetry/virtualenvs/mxbai--uGaocbU-py3.10/lib/python3.10/site-packages (2.2.3)\n",
      "Collecting transformers<5.0.0,>=4.34.0 (from sentence_transformers)\n",
      "  Using cached transformers-4.41.2-py3-none-any.whl.metadata (43 kB)\n",
      "Requirement already satisfied: tqdm in /Users/juliuslipp/Library/Caches/pypoetry/virtualenvs/mxbai--uGaocbU-py3.10/lib/python3.10/site-packages (from sentence_transformers) (4.66.4)\n",
      "Requirement already satisfied: torch>=1.11.0 in /Users/juliuslipp/Library/Caches/pypoetry/virtualenvs/mxbai--uGaocbU-py3.10/lib/python3.10/site-packages (from sentence_transformers) (2.3.1)\n",
      "Requirement already satisfied: numpy in /Users/juliuslipp/Library/Caches/pypoetry/virtualenvs/mxbai--uGaocbU-py3.10/lib/python3.10/site-packages (from sentence_transformers) (1.24.4)\n",
      "Requirement already satisfied: scikit-learn in /Users/juliuslipp/Library/Caches/pypoetry/virtualenvs/mxbai--uGaocbU-py3.10/lib/python3.10/site-packages (from sentence_transformers) (1.4.1.post1)\n",
      "Requirement already satisfied: scipy in /Users/juliuslipp/Library/Caches/pypoetry/virtualenvs/mxbai--uGaocbU-py3.10/lib/python3.10/site-packages (from sentence_transformers) (1.12.0)\n",
      "Requirement already satisfied: huggingface-hub>=0.15.1 in /Users/juliuslipp/Library/Caches/pypoetry/virtualenvs/mxbai--uGaocbU-py3.10/lib/python3.10/site-packages (from sentence_transformers) (0.16.4)\n",
      "Requirement already satisfied: Pillow in /Users/juliuslipp/Library/Caches/pypoetry/virtualenvs/mxbai--uGaocbU-py3.10/lib/python3.10/site-packages (from sentence_transformers) (9.4.0)\n",
      "Requirement already satisfied: httpx>=0.21.2 in /Users/juliuslipp/Library/Caches/pypoetry/virtualenvs/mxbai--uGaocbU-py3.10/lib/python3.10/site-packages (from mixedbread-ai) (0.27.0)\n",
      "Requirement already satisfied: pydantic>=1.9.2 in /Users/juliuslipp/Library/Caches/pypoetry/virtualenvs/mxbai--uGaocbU-py3.10/lib/python3.10/site-packages (from mixedbread-ai) (2.7.4)\n",
      "Requirement already satisfied: requests<3.0.0,>=2.31.0 in /Users/juliuslipp/Library/Caches/pypoetry/virtualenvs/mxbai--uGaocbU-py3.10/lib/python3.10/site-packages (from mixedbread-ai) (2.32.3)\n",
      "Requirement already satisfied: types-requests<3.0.0.0,>=2.31.0.20240311 in /Users/juliuslipp/Library/Caches/pypoetry/virtualenvs/mxbai--uGaocbU-py3.10/lib/python3.10/site-packages (from mixedbread-ai) (2.32.0.20240622)\n",
      "Requirement already satisfied: typing_extensions>=4.0.0 in /Users/juliuslipp/Library/Caches/pypoetry/virtualenvs/mxbai--uGaocbU-py3.10/lib/python3.10/site-packages (from mixedbread-ai) (4.12.2)\n",
      "Requirement already satisfied: anyio in /Users/juliuslipp/Library/Caches/pypoetry/virtualenvs/mxbai--uGaocbU-py3.10/lib/python3.10/site-packages (from httpx>=0.21.2->mixedbread-ai) (4.4.0)\n",
      "Requirement already satisfied: certifi in /Users/juliuslipp/Library/Caches/pypoetry/virtualenvs/mxbai--uGaocbU-py3.10/lib/python3.10/site-packages (from httpx>=0.21.2->mixedbread-ai) (2024.6.2)\n",
      "Requirement already satisfied: httpcore==1.* in /Users/juliuslipp/Library/Caches/pypoetry/virtualenvs/mxbai--uGaocbU-py3.10/lib/python3.10/site-packages (from httpx>=0.21.2->mixedbread-ai) (1.0.5)\n",
      "Requirement already satisfied: idna in /Users/juliuslipp/Library/Caches/pypoetry/virtualenvs/mxbai--uGaocbU-py3.10/lib/python3.10/site-packages (from httpx>=0.21.2->mixedbread-ai) (3.7)\n",
      "Requirement already satisfied: sniffio in /Users/juliuslipp/Library/Caches/pypoetry/virtualenvs/mxbai--uGaocbU-py3.10/lib/python3.10/site-packages (from httpx>=0.21.2->mixedbread-ai) (1.3.1)\n",
      "Requirement already satisfied: h11<0.15,>=0.13 in /Users/juliuslipp/Library/Caches/pypoetry/virtualenvs/mxbai--uGaocbU-py3.10/lib/python3.10/site-packages (from httpcore==1.*->httpx>=0.21.2->mixedbread-ai) (0.14.0)\n",
      "Requirement already satisfied: filelock in /Users/juliuslipp/Library/Caches/pypoetry/virtualenvs/mxbai--uGaocbU-py3.10/lib/python3.10/site-packages (from huggingface-hub>=0.15.1->sentence_transformers) (3.9.0)\n",
      "Requirement already satisfied: fsspec in /Users/juliuslipp/Library/Caches/pypoetry/virtualenvs/mxbai--uGaocbU-py3.10/lib/python3.10/site-packages (from huggingface-hub>=0.15.1->sentence_transformers) (2023.1.0)\n",
      "Requirement already satisfied: pyyaml>=5.1 in /Users/juliuslipp/Library/Caches/pypoetry/virtualenvs/mxbai--uGaocbU-py3.10/lib/python3.10/site-packages (from huggingface-hub>=0.15.1->sentence_transformers) (6.0.1)\n",
      "Requirement already satisfied: packaging>=20.9 in /Users/juliuslipp/Library/Caches/pypoetry/virtualenvs/mxbai--uGaocbU-py3.10/lib/python3.10/site-packages (from huggingface-hub>=0.15.1->sentence_transformers) (24.1)\n",
      "Requirement already satisfied: annotated-types>=0.4.0 in /Users/juliuslipp/Library/Caches/pypoetry/virtualenvs/mxbai--uGaocbU-py3.10/lib/python3.10/site-packages (from pydantic>=1.9.2->mixedbread-ai) (0.7.0)\n",
      "Requirement already satisfied: pydantic-core==2.18.4 in /Users/juliuslipp/Library/Caches/pypoetry/virtualenvs/mxbai--uGaocbU-py3.10/lib/python3.10/site-packages (from pydantic>=1.9.2->mixedbread-ai) (2.18.4)\n",
      "Requirement already satisfied: charset-normalizer<4,>=2 in /Users/juliuslipp/Library/Caches/pypoetry/virtualenvs/mxbai--uGaocbU-py3.10/lib/python3.10/site-packages (from requests<3.0.0,>=2.31.0->mixedbread-ai) (3.3.2)\n",
      "Requirement already satisfied: urllib3<3,>=1.21.1 in /Users/juliuslipp/Library/Caches/pypoetry/virtualenvs/mxbai--uGaocbU-py3.10/lib/python3.10/site-packages (from requests<3.0.0,>=2.31.0->mixedbread-ai) (2.2.2)\n",
      "Requirement already satisfied: sympy in /Users/juliuslipp/Library/Caches/pypoetry/virtualenvs/mxbai--uGaocbU-py3.10/lib/python3.10/site-packages (from torch>=1.11.0->sentence_transformers) (1.12)\n",
      "Requirement already satisfied: networkx in /Users/juliuslipp/Library/Caches/pypoetry/virtualenvs/mxbai--uGaocbU-py3.10/lib/python3.10/site-packages (from torch>=1.11.0->sentence_transformers) (3.1)\n",
      "Requirement already satisfied: jinja2 in /Users/juliuslipp/Library/Caches/pypoetry/virtualenvs/mxbai--uGaocbU-py3.10/lib/python3.10/site-packages (from torch>=1.11.0->sentence_transformers) (3.1.4)\n",
      "Collecting huggingface-hub>=0.15.1 (from sentence_transformers)\n",
      "  Using cached huggingface_hub-0.23.4-py3-none-any.whl.metadata (12 kB)\n",
      "Requirement already satisfied: regex!=2019.12.17 in /Users/juliuslipp/Library/Caches/pypoetry/virtualenvs/mxbai--uGaocbU-py3.10/lib/python3.10/site-packages (from transformers<5.0.0,>=4.34.0->sentence_transformers) (2023.12.25)\n",
      "Collecting tokenizers<0.20,>=0.19 (from transformers<5.0.0,>=4.34.0->sentence_transformers)\n",
      "  Using cached tokenizers-0.19.1-cp310-cp310-macosx_11_0_arm64.whl.metadata (6.7 kB)\n",
      "Collecting safetensors>=0.4.1 (from transformers<5.0.0,>=4.34.0->sentence_transformers)\n",
      "  Using cached safetensors-0.4.3-cp310-cp310-macosx_11_0_arm64.whl.metadata (3.8 kB)\n",
      "Collecting fsspec (from torch>=1.11.0->sentence_transformers)\n",
      "  Using cached fsspec-2024.6.0-py3-none-any.whl.metadata (11 kB)\n",
      "Requirement already satisfied: joblib>=1.2.0 in /Users/juliuslipp/Library/Caches/pypoetry/virtualenvs/mxbai--uGaocbU-py3.10/lib/python3.10/site-packages (from scikit-learn->sentence_transformers) (1.2.0)\n",
      "Requirement already satisfied: threadpoolctl>=2.0.0 in /Users/juliuslipp/Library/Caches/pypoetry/virtualenvs/mxbai--uGaocbU-py3.10/lib/python3.10/site-packages (from scikit-learn->sentence_transformers) (3.4.0)\n",
      "Requirement already satisfied: exceptiongroup>=1.0.2 in /Users/juliuslipp/Library/Caches/pypoetry/virtualenvs/mxbai--uGaocbU-py3.10/lib/python3.10/site-packages (from anyio->httpx>=0.21.2->mixedbread-ai) (1.2.1)\n",
      "Requirement already satisfied: MarkupSafe>=2.0 in /Users/juliuslipp/Library/Caches/pypoetry/virtualenvs/mxbai--uGaocbU-py3.10/lib/python3.10/site-packages (from jinja2->torch>=1.11.0->sentence_transformers) (2.1.5)\n",
      "Requirement already satisfied: mpmath>=0.19 in /Users/juliuslipp/Library/Caches/pypoetry/virtualenvs/mxbai--uGaocbU-py3.10/lib/python3.10/site-packages (from sympy->torch>=1.11.0->sentence_transformers) (1.3.0)\n",
      "Downloading sentence_transformers-3.0.1-py3-none-any.whl (227 kB)\n",
      "\u001b[2K   \u001b[90m━━━━━━━━━━━━━━━━━━━━━━━━━━━━━━━━━━━━━━━━\u001b[0m \u001b[32m227.1/227.1 kB\u001b[0m \u001b[31m3.4 MB/s\u001b[0m eta \u001b[36m0:00:00\u001b[0m \u001b[36m0:00:01\u001b[0m\n",
      "\u001b[?25hUsing cached transformers-4.41.2-py3-none-any.whl (9.1 MB)\n",
      "Using cached huggingface_hub-0.23.4-py3-none-any.whl (402 kB)\n",
      "Using cached fsspec-2024.6.0-py3-none-any.whl (176 kB)\n",
      "Using cached safetensors-0.4.3-cp310-cp310-macosx_11_0_arm64.whl (410 kB)\n",
      "Using cached tokenizers-0.19.1-cp310-cp310-macosx_11_0_arm64.whl (2.4 MB)\n",
      "Installing collected packages: safetensors, fsspec, huggingface-hub, tokenizers, transformers, sentence_transformers\n",
      "  Attempting uninstall: safetensors\n",
      "    Found existing installation: safetensors 0.3.3\n",
      "    Uninstalling safetensors-0.3.3:\n",
      "      Successfully uninstalled safetensors-0.3.3\n",
      "  Attempting uninstall: fsspec\n",
      "    Found existing installation: fsspec 2023.1.0\n",
      "    Uninstalling fsspec-2023.1.0:\n",
      "      Successfully uninstalled fsspec-2023.1.0\n",
      "  Attempting uninstall: huggingface-hub\n",
      "    Found existing installation: huggingface-hub 0.16.4\n",
      "    Uninstalling huggingface-hub-0.16.4:\n",
      "      Successfully uninstalled huggingface-hub-0.16.4\n",
      "  Attempting uninstall: tokenizers\n",
      "    Found existing installation: tokenizers 0.13.3\n",
      "    Uninstalling tokenizers-0.13.3:\n",
      "      Successfully uninstalled tokenizers-0.13.3\n",
      "  Attempting uninstall: transformers\n",
      "    Found existing installation: transformers 4.30.2\n",
      "    Uninstalling transformers-4.30.2:\n",
      "      Successfully uninstalled transformers-4.30.2\n",
      "  Attempting uninstall: sentence_transformers\n",
      "    Found existing installation: sentence-transformers 2.6.1\n",
      "    Uninstalling sentence-transformers-2.6.1:\n",
      "      Successfully uninstalled sentence-transformers-2.6.1\n",
      "\u001b[31mERROR: pip's dependency resolver does not currently take into account all the packages that are installed. This behaviour is the source of the following dependency conflicts.\n",
      "datasets 2.18.0 requires fsspec[http]<=2024.2.0,>=2023.1.0, but you have fsspec 2024.6.0 which is incompatible.\n",
      "ragatouille 0.0.8.post2 requires langchain<0.2.0,>=0.1.0, but you have langchain 0.2.5 which is incompatible.\n",
      "ragatouille 0.0.8.post2 requires langchain_core<0.2.0,>=0.1.4, but you have langchain-core 0.2.7 which is incompatible.\n",
      "ragatouille 0.0.8.post2 requires sentence-transformers<3.0.0,>=2.2.2, but you have sentence-transformers 3.0.1 which is incompatible.\n",
      "ragatouille 0.0.8.post2 requires srsly==2.4.8, but you have srsly 2.4.5 which is incompatible.\u001b[0m\u001b[31m\n",
      "\u001b[0mSuccessfully installed fsspec-2024.6.0 huggingface-hub-0.23.4 safetensors-0.4.3 sentence_transformers-3.0.1 tokenizers-0.19.1 transformers-4.41.2\n",
      "Note: you may need to restart the kernel to use updated packages.\n"
     ]
    }
   ],
   "source": [
    "%pip install -U sentence_transformers mixedbread-ai"
   ]
  },
  {
   "cell_type": "code",
   "execution_count": 6,
   "metadata": {
    "ExecuteTime": {
     "end_time": "2024-04-02T11:38:57.343354Z",
     "start_time": "2024-04-02T11:38:57.336464Z"
    }
   },
   "outputs": [],
   "source": [
    "from haystack import Document\n",
    "from datasets import load_dataset\n",
    "\n",
    "ds = load_dataset(\"rajuptvs/ecommerce_products_clip\")\n",
    "\n",
    "documents = [\n",
    "    Document(\n",
    "        id=str(i),\n",
    "        content=data[\"Description\"], meta={\n",
    "        \"name\": data[\"Product_name\"],\n",
    "        \"price\": data[\"Price\"],\n",
    "        \"colors\": data[\"colors\"],\n",
    "        \"pattern\": data[\"Pattern\"],\n",
    "        \"extra\": data[\"Other Details\"]\n",
    "    }) for i, data in enumerate(ds[\"train\"])\n",
    "]\n",
    "\n",
    "meta_fields = documents[0].meta.keys()"
   ]
  },
  {
   "cell_type": "code",
   "execution_count": 7,
   "metadata": {},
   "outputs": [
    {
     "data": {
      "text/plain": [
       "<haystack.core.pipeline.pipeline.Pipeline object at 0x28b753160>\n",
       "🚅 Components\n",
       "  - text_embedder: MixedbreadAITextEmbedder\n",
       "  - embedding_retriever: InMemoryEmbeddingRetriever\n",
       "  - reranker: MixedbreadAIReranker\n",
       "🛤️ Connections\n",
       "  - text_embedder.embedding -> embedding_retriever.query_embedding (List[float])\n",
       "  - embedding_retriever.documents -> reranker.documents (List[Document])"
      ]
     },
     "execution_count": 7,
     "metadata": {},
     "output_type": "execute_result"
    }
   ],
   "source": [
    "import os\n",
    "from haystack import Pipeline\n",
    "from haystack.document_stores.in_memory import InMemoryDocumentStore\n",
    "from haystack.components.writers import DocumentWriter\n",
    "from haystack.components.retrievers.in_memory import InMemoryEmbeddingRetriever\n",
    "from mixedbread_ai_haystack import MixedbreadAIDocumentEmbedder, MixedbreadAITextEmbedder, MixedbreadAIReranker\n",
    "\n",
    "os.environ[\"MXBAI_API_KEY\"] = \"YOUR_API_KEY\"\n",
    "\n",
    "# -------------------------------------\n",
    "# Instance Definition\n",
    "# -------------------------------------\n",
    "document_store = InMemoryDocumentStore(embedding_similarity_function=\"cosine\")\n",
    "document_writer = DocumentWriter(document_store=document_store)\n",
    "embedding_retriever = InMemoryEmbeddingRetriever(document_store=document_store, top_k=20)\n",
    "\n",
    "embed_model = \"mixedbread-ai/mxbai-embed-large-v1\"\n",
    "reranking_model = \"mixedbread-ai/mxbai-rerank-large-v1\" # OR use 'default' for the latest model.\n",
    "\n",
    "text_embedder = MixedbreadAITextEmbedder(model=embed_model)\n",
    "document_embedder = MixedbreadAIDocumentEmbedder(model=embed_model, max_concurrency=3, meta_fields_to_embed=meta_fields, show_progress_bar=True)\n",
    "reranker = MixedbreadAIReranker(model=reranking_model, meta_fields_to_rank=meta_fields, top_k=5)\n",
    "\n",
    "\n",
    "# -------------------------------------\n",
    "# Indexing Pipeline\n",
    "# -------------------------------------\n",
    "indexing_pipeline = Pipeline()\n",
    "indexing_pipeline.add_component(instance=document_embedder, name=\"document_embedder\")\n",
    "indexing_pipeline.add_component(instance=document_writer, name=\"document_writer\")\n",
    "indexing_pipeline.connect(\"document_embedder\", \"document_writer\")\n",
    "\n",
    "# -------------------------------------\n",
    "# Indexing Pipeline\n",
    "# -------------------------------------\n",
    "query_pipeline = Pipeline()\n",
    "query_pipeline.add_component(instance=text_embedder, name=\"text_embedder\")\n",
    "query_pipeline.add_component(instance=embedding_retriever, name=\"embedding_retriever\")\n",
    "query_pipeline.add_component(instance=reranker, name=\"reranker\")\n",
    "query_pipeline.connect(\"text_embedder\", \"embedding_retriever\")\n",
    "query_pipeline.connect(\"embedding_retriever.documents\", \"reranker.documents\")"
   ]
  },
  {
   "cell_type": "code",
   "execution_count": 3,
   "metadata": {},
   "outputs": [
    {
     "name": "stderr",
     "output_type": "stream",
     "text": [
      "MixedbreadAIDocumentEmbedder - Calculating embedding batches: 100%|██████████| 15/15 [00:06<00:00,  2.24it/s]\n"
     ]
    },
    {
     "data": {
      "text/plain": [
       "{'document_embedder': {'meta': {'model': 'mixedbread-ai/mxbai-embed-large-v1',\n",
       "   'object': <ObjectType.LIST: 'list'>,\n",
       "   'normalized': True,\n",
       "   'encoding_format': <EncodingFormat.FLOAT: 'float'>,\n",
       "   'dimensions': 1024,\n",
       "   'usage': Usage(prompt_tokens=119007, total_tokens=119007, completion_tokens=None)}},\n",
       " 'document_writer': {'documents_written': 1913}}"
      ]
     },
     "execution_count": 3,
     "metadata": {},
     "output_type": "execute_result"
    }
   ],
   "source": [
    "# Index the dataset\n",
    "indexing_pipeline.run({\"document_embedder\": {\"documents\": documents}})"
   ]
  },
  {
   "cell_type": "code",
   "execution_count": 5,
   "metadata": {},
   "outputs": [
    {
     "name": "stdout",
     "output_type": "stream",
     "text": [
      "[Document(id=701, content: 'unknown', meta: {'name': 'Men Regular Fit Solid Casual Shirt', 'price': '₹1,434', 'colors': 'Blue', 'pattern': 'Solid', 'extra': 'unknown'}, score: 0.21203613), Document(id=629, content: 'unknown', meta: {'name': 'Men Regular Fit Solid Casual Shirt', 'price': '₹1,212', 'colors': 'Blue', 'pattern': 'Solid', 'extra': 'unknown'}, score: 0.20983887), Document(id=102, content: 'High quality premium Full sleeves Plain  Shirt direct from the manufacturers. Gives you perfect fit,...', meta: {'name': 'Men Regular Fit Printed Spread Collar Casual Shirt', 'price': '₹349', 'colors': 'Dark Blue', 'pattern': 'Printed', 'extra': 'unknown'}, score: 0.16711426), Document(id=575, content: 'Shirt Style: Casual shirt with slim collar, roll up sleeves, rounded hem and button closure. Fabric:...', meta: {'name': 'Men Regular Fit Printed Slim Collar Casual Shirt', 'price': '₹499', 'colors': 'Blue', 'pattern': 'Printed', 'extra': '100% cotton'}, score: 0.13293457), Document(id=461, content: 'Rock the fashion world as you adorn this cotton shirt. This men's shirt is fashioned on pure cotton ...', meta: {'name': 'Men Regular Fit Checkered Casual Shirt', 'price': '₹399', 'colors': 'Blue', 'pattern': 'Checkered', 'extra': 'Rich pure cotton full sleeve regular fit shirt for men'}, score: 0.099121094)]\n"
     ]
    }
   ],
   "source": [
    "# Query to get results\n",
    "query = \"I am looking for a regular fit t-shirt in blue color. Ideally without any prints. What are my options?\"\n",
    "\n",
    "results = query_pipeline.run(\n",
    "    {\n",
    "        \"text_embedder\": {\"text\": query},\n",
    "        \"reranker\": {\"query\": query}\n",
    "    }\n",
    ")\n",
    "\n",
    "print(results[\"reranker\"][\"documents\"])"
   ]
  },
  {
   "cell_type": "code",
   "execution_count": null,
   "metadata": {},
   "outputs": [],
   "source": []
  }
 ],
 "metadata": {
  "kernelspec": {
   "display_name": "Python 3",
   "language": "python",
   "name": "python3"
  },
  "language_info": {
   "codemirror_mode": {
    "name": "ipython",
    "version": 3
   },
   "file_extension": ".py",
   "mimetype": "text/x-python",
   "name": "python",
   "nbconvert_exporter": "python",
   "pygments_lexer": "ipython3",
   "version": "3.10.13"
  }
 },
 "nbformat": 4,
 "nbformat_minor": 2
}
